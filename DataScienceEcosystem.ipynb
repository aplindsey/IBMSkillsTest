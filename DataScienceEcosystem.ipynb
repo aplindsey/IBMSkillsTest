{
 "cells": [
  {
   "cell_type": "markdown",
   "id": "5aca616a-39db-4cfe-9c9e-3c30e2436677",
   "metadata": {
    "tags": []
   },
   "source": [
    "# Data Science Tools and Ecosystem"
   ]
  },
  {
   "cell_type": "markdown",
   "id": "ec2aabba-8937-420d-9d9c-721ed0812e40",
   "metadata": {},
   "source": [
    "In this notebook, Data Science Tools and Ecosystem are summarized."
   ]
  },
  {
   "cell_type": "markdown",
   "id": "eb746592-7a35-45ad-94fd-63747dd2b500",
   "metadata": {},
   "source": [
    "**Objectives**:\n",
    "\n",
    "+ List popular languages used in Data Science\n",
    "+ List commonly used libraries use by Data Scientists\n",
    "+ Show a table of development environment tools\n",
    "+ Show some examples of Python evaluating arithmetic"
   ]
  },
  {
   "cell_type": "markdown",
   "id": "d8d18946-1aa3-44ac-ab4f-d115bed153d9",
   "metadata": {},
   "source": [
    "Some of the popular languages that Data Scientists use are:\n",
    "1. Python\n",
    "2. R\n",
    "3. SQL\n",
    "4. Java\n",
    "5. Scala\n",
    "6. JavaScript\n",
    "7. Julia\n"
   ]
  },
  {
   "cell_type": "markdown",
   "id": "e2c5b575-f9d9-4bad-b980-6c6042aaca7e",
   "metadata": {},
   "source": [
    "Some of the commonly used libraries used by Data Scientists include:\n",
    "\n",
    "1. Pandas\n",
    "2. numPY\n",
    "3. Tensorflow\n",
    "4. Pytorch"
   ]
  },
  {
   "cell_type": "markdown",
   "id": "241c1ba3-85ad-4ee2-b9ff-a4905dfce55b",
   "metadata": {},
   "source": [
    "| Data Tools|\n",
    "|-----------|\n",
    "|IMB Watson Studio|\n",
    "|MZ Azure Machine Learning|\n",
    "|H2O.ai|\n"
   ]
  },
  {
   "cell_type": "markdown",
   "id": "909c27e4-2fad-46d9-93fb-87b6e53160b0",
   "metadata": {},
   "source": [
    "### Below are a few examples of evaluating arithmetic expressions in Python"
   ]
  },
  {
   "cell_type": "code",
   "execution_count": 7,
   "id": "ce3efc18-9a4d-4a10-bafb-17daa2b3ac08",
   "metadata": {
    "tags": []
   },
   "outputs": [
    {
     "data": {
      "text/plain": [
       "17"
      ]
     },
     "execution_count": 7,
     "metadata": {},
     "output_type": "execute_result"
    }
   ],
   "source": [
    "# This a simple arithmetic expression to mutiply then add integers\n",
    "\n",
    "(3*4)+5"
   ]
  },
  {
   "cell_type": "code",
   "execution_count": 8,
   "id": "6bcc069b-7fe0-46ec-bd26-a32df15e2d50",
   "metadata": {
    "tags": []
   },
   "outputs": [
    {
     "data": {
      "text/plain": [
       "3.3333333333333335"
      ]
     },
     "execution_count": 8,
     "metadata": {},
     "output_type": "execute_result"
    }
   ],
   "source": [
    "# This will convert 200 minutes to hours by diving by 60\n",
    "\n",
    "200/60"
   ]
  },
  {
   "cell_type": "markdown",
   "id": "3ee315a2-c5a5-4695-b3c6-376934c54ca9",
   "metadata": {},
   "source": [
    "## Author\n",
    "Alex Lindsey"
   ]
  }
 ],
 "metadata": {
  "kernelspec": {
   "display_name": "Python",
   "language": "python",
   "name": "conda-env-python-py"
  },
  "language_info": {
   "codemirror_mode": {
    "name": "ipython",
    "version": 3
   },
   "file_extension": ".py",
   "mimetype": "text/x-python",
   "name": "python",
   "nbconvert_exporter": "python",
   "pygments_lexer": "ipython3",
   "version": "3.7.12"
  }
 },
 "nbformat": 4,
 "nbformat_minor": 5
}
